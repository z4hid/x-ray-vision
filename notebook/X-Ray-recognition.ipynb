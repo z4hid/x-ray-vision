{
 "cells": [
  {
   "cell_type": "markdown",
   "metadata": {},
   "source": [
    "#### Importing The Libraries"
   ]
  },
  {
   "cell_type": "code",
   "execution_count": 1,
   "metadata": {},
   "outputs": [],
   "source": [
    "import os\n",
    "import torch\n",
    "import numpy as np\n",
    "import pandas as pd\n",
    "import matplotlib.pyplot as plt\n",
    "from tqdm import tqdm\n",
    "import torch.nn.functional as F"
   ]
  },
  {
   "cell_type": "markdown",
   "metadata": {},
   "source": [
    "#### Root data directory path"
   ]
  },
  {
   "cell_type": "code",
   "execution_count": 2,
   "metadata": {},
   "outputs": [],
   "source": [
    "data_dir = '/home/z4hid/gitpublicz4hid/x-ray-vision/notebook/data/'"
   ]
  },
  {
   "cell_type": "markdown",
   "metadata": {},
   "source": [
    "#### Total number of classes"
   ]
  },
  {
   "cell_type": "code",
   "execution_count": 3,
   "metadata": {},
   "outputs": [
    {
     "data": {
      "text/plain": [
       "2"
      ]
     },
     "execution_count": 3,
     "metadata": {},
     "output_type": "execute_result"
    }
   ],
   "source": [
    "class_names = os.listdir(data_dir)\n",
    "num_classes = len(class_names)\n",
    "num_classes"
   ]
  },
  {
   "cell_type": "code",
   "execution_count": 4,
   "metadata": {},
   "outputs": [],
   "source": [
    "from torchvision.datasets import ImageFolder\n",
    "from torch.utils.data import DataLoader\n",
    "from torchvision.utils import make_grid\n",
    "from torchvision import transforms as T, datasets"
   ]
  },
  {
   "cell_type": "markdown",
   "metadata": {},
   "source": [
    "#### Checking CUDA availability"
   ]
  },
  {
   "cell_type": "code",
   "execution_count": 5,
   "metadata": {},
   "outputs": [
    {
     "name": "stdout",
     "output_type": "stream",
     "text": [
      "Device: cuda\n"
     ]
    }
   ],
   "source": [
    "device = torch.device('cuda' if torch.cuda.is_available() else 'cpu')\n",
    "print(\"Device:\", device)"
   ]
  },
  {
   "cell_type": "markdown",
   "metadata": {},
   "source": [
    "#### Transfroming the data"
   ]
  },
  {
   "cell_type": "code",
   "execution_count": 6,
   "metadata": {},
   "outputs": [],
   "source": [
    "data_transform = T.Compose([\n",
    "    T.Resize((224, 224)), # Resize the image to 224x224\n",
    "    T.RandomRotation(degrees=(-20,+20)), # Randomly rotate the image by -20 to +20 degrees\n",
    "    T.ToTensor(),\n",
    "    T.Normalize([0.485, 0.456, 0.406], [0.229, 0.224, 0.225]) # Imagenet mean and std\n",
    "])"
   ]
  },
  {
   "cell_type": "code",
   "execution_count": 7,
   "metadata": {},
   "outputs": [
    {
     "name": "stdout",
     "output_type": "stream",
     "text": [
      "Total count: 5232\n"
     ]
    }
   ],
   "source": [
    "data = datasets.ImageFolder(data_dir, transform=data_transform)\n",
    "total_count = len(data)\n",
    "print(\"Total count:\", total_count)"
   ]
  },
  {
   "cell_type": "code",
   "execution_count": 8,
   "metadata": {},
   "outputs": [
    {
     "data": {
      "text/plain": [
       "['NORMAL', 'PNEUMONIA']"
      ]
     },
     "execution_count": 8,
     "metadata": {},
     "output_type": "execute_result"
    }
   ],
   "source": [
    "data.classes"
   ]
  },
  {
   "cell_type": "markdown",
   "metadata": {},
   "source": [
    "#### Splitting the data"
   ]
  },
  {
   "cell_type": "code",
   "execution_count": 9,
   "metadata": {},
   "outputs": [],
   "source": [
    "train_count = int(0.6 * total_count) # 60% of the total count\n",
    "valid_count = int(0.3 * total_count) # 30% of the total count\n",
    "test_count = total_count - train_count - valid_count # 10% of the total count\n",
    "train_data, valid_data, test_data = torch.utils.data.random_split(data, [train_count, valid_count, test_count])"
   ]
  },
  {
   "cell_type": "code",
   "execution_count": 10,
   "metadata": {},
   "outputs": [
    {
     "data": {
      "text/plain": [
       "Dataset ImageFolder\n",
       "    Number of datapoints: 5232\n",
       "    Root location: /home/z4hid/gitpublicz4hid/x-ray-vision/notebook/data/\n",
       "    StandardTransform\n",
       "Transform: Compose(\n",
       "               Resize(size=(224, 224), interpolation=bilinear, max_size=None, antialias=True)\n",
       "               RandomRotation(degrees=[-20.0, 20.0], interpolation=nearest, expand=False, fill=0)\n",
       "               ToTensor()\n",
       "               Normalize(mean=[0.485, 0.456, 0.406], std=[0.229, 0.224, 0.225])\n",
       "           )"
      ]
     },
     "execution_count": 10,
     "metadata": {},
     "output_type": "execute_result"
    }
   ],
   "source": [
    "train_data.dataset"
   ]
  },
  {
   "cell_type": "code",
   "execution_count": 11,
   "metadata": {},
   "outputs": [
    {
     "data": {
      "text/plain": [
       "3139"
      ]
     },
     "execution_count": 11,
     "metadata": {},
     "output_type": "execute_result"
    }
   ],
   "source": [
    "len(train_data.indices)"
   ]
  },
  {
   "cell_type": "code",
   "execution_count": 12,
   "metadata": {},
   "outputs": [
    {
     "data": {
      "text/plain": [
       "1569"
      ]
     },
     "execution_count": 12,
     "metadata": {},
     "output_type": "execute_result"
    }
   ],
   "source": [
    "len(valid_data.indices)"
   ]
  },
  {
   "cell_type": "code",
   "execution_count": 13,
   "metadata": {},
   "outputs": [
    {
     "data": {
      "text/plain": [
       "524"
      ]
     },
     "execution_count": 13,
     "metadata": {},
     "output_type": "execute_result"
    }
   ],
   "source": [
    "len(test_data.indices)"
   ]
  },
  {
   "cell_type": "markdown",
   "metadata": {},
   "source": [
    "#### defining helper functions"
   ]
  },
  {
   "cell_type": "code",
   "execution_count": 14,
   "metadata": {},
   "outputs": [],
   "source": [
    "def show_image(image, label, get_denormalize=True):\n",
    "    \n",
    "    image = image.permute(1, 2, 0)\n",
    "    mean = torch.FloatTensor([0.485, 0.456, 0.406])\n",
    "    std = torch.FloatTensor([0.229, 0.224, 0.225])\n",
    "    if get_denormalize == True:\n",
    "        image = image * std + mean\n",
    "        image = np.clip(image, 0, 1)\n",
    "        plt.imshow(image)\n",
    "        plt.title(label)\n",
    "    \n",
    "    else:\n",
    "        plt.imshow(image)\n",
    "        plt.title(label)\n",
    "        \n",
    "\n",
    "def show_grid(image, title=None):\n",
    "    \n",
    "    image = image.pretuple(1, 2, 0)\n",
    "    mean = torch.FloatTensor([0.485, 0.456, 0.406])\n",
    "    std = torch.FloatTensor([0.229, 0.224, 0.225])\n",
    "    image = image * std + mean\n",
    "    image = np.clip(image, 0, 1)\n",
    "    \n",
    "    plt.figure(figsize=(15, 15))\n",
    "    plt.imshow(image)\n",
    "    if title is not None:\n",
    "        plt.title(title)\n",
    "        \n",
    "\n",
    "def accuracy(y_pred, y_ture):\n",
    "    y_pred = F.softmax(y_pred, dim=1)\n",
    "    top_p,top_class = y_pred.topk(1, dim=1)\n",
    "    equals = top_class == y_ture.view(*top_class.shape)\n",
    "    return torch.mean(equals.type(torch.FloatTensor))\n",
    "\n",
    "       "
   ]
  },
  {
   "cell_type": "code",
   "execution_count": 15,
   "metadata": {},
   "outputs": [
    {
     "data": {
      "image/png": "[encoded data removed]",
      "text/plain": [
       "<Figure size 640x480 with 1 Axes>"
      ]
     },
     "metadata": {},
     "output_type": "display_data"
    }
   ],
   "source": [
    "img, label = train_data[0]\n",
    "show_image(img, class_names[label])"
   ]
  },
  {
   "cell_type": "markdown",
   "metadata": {},
   "source": [
    "#### data Loaders"
   ]
  },
  {
   "cell_type": "code",
   "execution_count": 16,
   "metadata": {},
   "outputs": [
    {
     "name": "stdout",
     "output_type": "stream",
     "text": [
      "No. of batches in train dataloader: 99\n",
      "No. of Total Examples:  3139\n",
      "No. of batches in validation dataloader: 50\n",
      "No. of Total Examples:  1569\n",
      "No. of batches in test dataloader: 17\n",
      "No. of Total Examples:  524\n"
     ]
    }
   ],
   "source": [
    "traindataloader = DataLoader(train_data, batch_size=32, shuffle=True)\n",
    "print(\"No. of batches in train dataloader:\", len(traindataloader))\n",
    "print(\"No. of Total Examples: \", len(traindataloader.dataset))\n",
    "\n",
    "validationdataloader = DataLoader(valid_data, batch_size=32, shuffle=True)\n",
    "print(\"No. of batches in validation dataloader:\", len(validationdataloader))\n",
    "print(\"No. of Total Examples: \", len(validationdataloader.dataset))\n",
    "\n",
    "testdataloader = DataLoader(test_data, batch_size=32, shuffle=False) # Shuffle is set to False\n",
    "print(\"No. of batches in test dataloader:\", len(testdataloader))\n",
    "print(\"No. of Total Examples: \", len(testdataloader.dataset))\n"
   ]
  },
  {
   "cell_type": "markdown",
   "metadata": {},
   "source": [
    "#### Model"
   ]
  },
  {
   "cell_type": "code",
   "execution_count": 17,
   "metadata": {},
   "outputs": [],
   "source": [
    "import torch\n",
    "import torch.nn as nn \n",
    "import torch.nn.functional as F\n",
    "import torch.optim as optim\n",
    "from torchvision import models"
   ]
  },
  {
   "cell_type": "code",
   "execution_count": 18,
   "metadata": {},
   "outputs": [
    {
     "name": "stderr",
     "output_type": "stream",
     "text": [
      "/home/z4hid/anaconda3/envs/aiagents/lib/python3.11/site-packages/torchvision/models/_utils.py:208: UserWarning: The parameter 'pretrained' is deprecated since 0.13 and may be removed in the future, please use 'weights' instead.\n",
      "  warnings.warn(\n",
      "/home/z4hid/anaconda3/envs/aiagents/lib/python3.11/site-packages/torchvision/models/_utils.py:223: UserWarning: Arguments other than a weight enum or `None` for 'weights' are deprecated since 0.13 and may be removed in the future. The current behavior is equivalent to passing `weights=ResNet34_Weights.IMAGENET1K_V1`. You can also use `weights=ResNet34_Weights.DEFAULT` to get the most up-to-date weights.\n",
      "  warnings.warn(msg)\n"
     ]
    }
   ],
   "source": [
    "model = models.resnet34(pretrained=True)"
   ]
  },
  {
   "cell_type": "code",
   "execution_count": 19,
   "metadata": {},
   "outputs": [],
   "source": [
    "model.fc = nn.Linear(model.fc.in_features, 1)  # Change the last layer for binary classification\n",
    "\n",
    "model = model.to(device)\n",
    "# Define loss function and optimizer\n",
    "criterion = nn.BCEWithLogitsLoss()\n",
    "# criterion = nn.CrossEntropyLoss()\n",
    "optimizer = optim.Adam(model.parameters(), lr=0.0001)\n",
    "# optimizer = optim.SGD(model.parameters(), lr=1e-3, momentum=0.9)"
   ]
  },
  {
   "cell_type": "code",
   "execution_count": 20,
   "metadata": {},
   "outputs": [],
   "source": [
    "import torch\n",
    "from tqdm import tqdm\n",
    "from sklearn.metrics import precision_score, recall_score, f1_score\n",
    "\n",
    "def train(model, criterion, optimizer, train_dataloader, val_dataloader, device):\n",
    "    # Initialize variables to store total loss and predictions\n",
    "    total_train_loss = 0\n",
    "    total_val_loss = 0\n",
    "    train_preds = []\n",
    "    train_labels = []\n",
    "    val_preds = []\n",
    "    val_labels = []\n",
    "    \n",
    "    # Set model to training mode\n",
    "    model.train()\n",
    "    with tqdm(train_dataloader, unit=\"batch\", leave=False) as pbar:\n",
    "        pbar.set_description(f\"Training\")\n",
    "        for images, labels in pbar:\n",
    "            # Move data to the specified device\n",
    "            images = images.to(device, non_blocking=True)\n",
    "            labels = labels.float().to(device, non_blocking=True)\n",
    "            \n",
    "            # Forward pass\n",
    "            output = model(images).view(-1)  # Ensure output is flattened\n",
    "            \n",
    "            # Compute loss\n",
    "            loss = criterion(output, labels)\n",
    "            total_train_loss += loss.item()\n",
    "            \n",
    "            # Store predictions and labels\n",
    "            train_preds.extend((output > 0).float().cpu().numpy())\n",
    "            train_labels.extend(labels.cpu().numpy())\n",
    "            \n",
    "            # Backward pass and optimization\n",
    "            optimizer.zero_grad()\n",
    "            loss.backward()\n",
    "            optimizer.step()\n",
    "    \n",
    "    # Set model to evaluation mode\n",
    "    model.eval()\n",
    "    with torch.no_grad():  # Disable gradient calculation for validation\n",
    "        with tqdm(val_dataloader, unit=\"batch\", leave=False) as pbar:\n",
    "            pbar.set_description(f\"Validation\")\n",
    "            for images, labels in pbar:\n",
    "                # Move data to the specified device\n",
    "                images = images.to(device, non_blocking=True)\n",
    "                labels = labels.float().to(device, non_blocking=True)\n",
    "                \n",
    "                # Forward pass\n",
    "                output = model(images).view(-1)  # Ensure output is flattened\n",
    "                \n",
    "                # Compute loss\n",
    "                loss = criterion(output, labels)\n",
    "                total_val_loss += loss.item()\n",
    "                \n",
    "                # Store predictions and labels\n",
    "                val_preds.extend((output > 0).float().cpu().numpy())\n",
    "                val_labels.extend(labels.cpu().numpy())\n",
    "    \n",
    "    # Calculate average loss and metrics\n",
    "    train_loss = total_train_loss / len(train_dataloader)\n",
    "    val_loss = total_val_loss / len(val_dataloader)\n",
    "    \n",
    "    train_acc = (torch.tensor(train_preds) == torch.tensor(train_labels)).float().mean().item()\n",
    "    val_acc = (torch.tensor(val_preds) == torch.tensor(val_labels)).float().mean().item()\n",
    "    \n",
    "    val_precision = precision_score(val_labels, val_preds)\n",
    "    val_recall = recall_score(val_labels, val_preds)\n",
    "    val_f1 = f1_score(val_labels, val_preds)\n",
    "    \n",
    "    # Print results\n",
    "    print(f\"Train Loss: {train_loss:.4f}, Train Accuracy: {train_acc:.4f}\")\n",
    "    print(f\"Val Loss: {val_loss:.4f}, Val Accuracy: {val_acc:.4f}\")\n",
    "    print(f\"Val Precision: {val_precision:.4f}, Val Recall: {val_recall:.4f}, Val F1: {val_f1:.4f}\")\n",
    "\n",
    "    return train_loss, train_acc, val_loss, val_acc, val_precision, val_recall, val_f1\n",
    "\n",
    "# Example usage:\n",
    "# model = YourModel()\n",
    "# criterion = nn.BCEWithLogitsLoss()\n",
    "# optimizer = optim.Adam(model.parameters(), lr=0.001)\n",
    "# device = torch.device(\"cuda\" if torch.cuda.is_available() else \"cpu\")\n",
    "# \n",
    "# for epoch in range(num_epochs):\n",
    "#     print(f\"Epoch {epoch+1}/{num_epochs}\")\n",
    "#     train_loss, train_acc, val_loss, val_acc, val_precision, val_recall, val_f1 = train(\n",
    "#         model, criterion, optimizer, train_dataloader, val_dataloader, device\n",
    "#     )\n",
    "#     print(\"-\" * 40)"
   ]
  },
  {
   "cell_type": "code",
   "execution_count": 21,
   "metadata": {},
   "outputs": [],
   "source": [
    "# def train(model, criterion, optimizer, train_dataloader, val_dataloader, device):\n",
    "#     # Initialize variables to store total loss and correct predictions\n",
    "#     total_train_loss = 0\n",
    "#     total_val_loss = 0\n",
    "#     train_correct = 0\n",
    "#     val_correct = 0\n",
    "    \n",
    "#     # Set model to training mode\n",
    "#     model.train()\n",
    "#     with tqdm(train_dataloader, unit=\"batch\", leave=False) as pbar:\n",
    "#         pbar.set_description(f\"Training\")\n",
    "#         for images, idxs in pbar:\n",
    "#             # Move data to the specified device\n",
    "#             images = images.to(device, non_blocking=True)\n",
    "#             idxs = idxs.to(device, non_blocking=True)\n",
    "            \n",
    "#             # Forward pass\n",
    "#             output = model(images)\n",
    "            \n",
    "#             # Compute loss\n",
    "#             loss = criterion(output, idxs)\n",
    "#             total_train_loss += loss.item()\n",
    "            \n",
    "#             # Compute accuracy\n",
    "#             _, predicted = torch.max(output, 1)\n",
    "#             train_correct += (predicted == idxs).sum().item()\n",
    "            \n",
    "#             # Backward pass and optimization\n",
    "#             optimizer.zero_grad()\n",
    "#             loss.backward()\n",
    "#             optimizer.step()\n",
    "    \n",
    "#     # Set model to evaluation mode\n",
    "#     model.eval()\n",
    "#     with torch.no_grad():  # Disable gradient calculation for validation\n",
    "#         with tqdm(val_dataloader, unit=\"batch\", leave=False) as pbar:\n",
    "#             pbar.set_description(f\"Validation\")\n",
    "#             for images, idxs in pbar:\n",
    "#                 # Move data to the specified device\n",
    "#                 images = images.to(device, non_blocking=True)\n",
    "#                 idxs = idxs.to(device, non_blocking=True)\n",
    "                \n",
    "#                 # Forward pass\n",
    "#                 output = model(images)\n",
    "                \n",
    "#                 # Compute loss\n",
    "#                 loss = criterion(output, idxs)\n",
    "#                 total_val_loss += loss.item()\n",
    "                \n",
    "#                 # Compute accuracy\n",
    "#                 _, predicted = torch.max(output, 1)\n",
    "#                 val_correct += (predicted == idxs).sum().item()\n",
    "    \n",
    "#     # Calculate average loss and accuracy\n",
    "#     train_loss = total_train_loss / len(train_dataloader)\n",
    "#     val_loss = total_val_loss / len(val_dataloader)\n",
    "#     train_acc = train_correct / len(train_dataloader.dataset)\n",
    "#     val_acc = val_correct / len(val_dataloader.dataset)\n",
    "    \n",
    "#     # Print results\n",
    "#     print(f\"Train Loss: {train_loss:.4f}, Train Accuracy: {train_acc:.4f}, Val Loss: {val_loss:.4f}, Val Accuracy: {val_acc:.4f}\")\n",
    "\n",
    "#     return train_loss, train_acc, val_loss, val_acc"
   ]
  },
  {
   "cell_type": "code",
   "execution_count": 22,
   "metadata": {},
   "outputs": [
    {
     "name": "stdout",
     "output_type": "stream",
     "text": [
      "Epoch 1/10\n"
     ]
    },
    {
     "name": "stderr",
     "output_type": "stream",
     "text": [
      "                                                              \r"
     ]
    },
    {
     "name": "stdout",
     "output_type": "stream",
     "text": [
      "Train Loss: 0.1798, Train Accuracy: 0.9350\n",
      "Val Loss: 0.1079, Val Accuracy: 0.9624\n",
      "Val Precision: 0.9749, Val Recall: 0.9741, Val F1: 0.9745\n",
      "----------------------------------------\n",
      "Epoch 2/10\n"
     ]
    },
    {
     "name": "stderr",
     "output_type": "stream",
     "text": [
      "                                                              \r"
     ]
    },
    {
     "name": "stdout",
     "output_type": "stream",
     "text": [
      "Train Loss: 0.0711, Train Accuracy: 0.9755\n",
      "Val Loss: 0.0771, Val Accuracy: 0.9694\n",
      "Val Precision: 0.9947, Val Recall: 0.9637, Val F1: 0.9789\n",
      "----------------------------------------\n",
      "Epoch 3/10\n"
     ]
    },
    {
     "name": "stderr",
     "output_type": "stream",
     "text": [
      "                                                              \r"
     ]
    },
    {
     "name": "stdout",
     "output_type": "stream",
     "text": [
      "Train Loss: 0.0556, Train Accuracy: 0.9809\n",
      "Val Loss: 0.0581, Val Accuracy: 0.9777\n",
      "Val Precision: 0.9965, Val Recall: 0.9732, Val F1: 0.9847\n",
      "----------------------------------------\n",
      "Epoch 4/10\n"
     ]
    },
    {
     "name": "stderr",
     "output_type": "stream",
     "text": [
      "                                                              \r"
     ]
    },
    {
     "name": "stdout",
     "output_type": "stream",
     "text": [
      "Train Loss: 0.0411, Train Accuracy: 0.9853\n",
      "Val Loss: 0.0624, Val Accuracy: 0.9751\n",
      "Val Precision: 0.9803, Val Recall: 0.9862, Val F1: 0.9832\n",
      "----------------------------------------\n",
      "Epoch 5/10\n"
     ]
    },
    {
     "name": "stderr",
     "output_type": "stream",
     "text": [
      "                                                              \r"
     ]
    },
    {
     "name": "stdout",
     "output_type": "stream",
     "text": [
      "Train Loss: 0.0432, Train Accuracy: 0.9876\n",
      "Val Loss: 0.2266, Val Accuracy: 0.9312\n",
      "Val Precision: 0.9981, Val Recall: 0.9085, Val F1: 0.9512\n",
      "----------------------------------------\n",
      "Epoch 6/10\n"
     ]
    },
    {
     "name": "stderr",
     "output_type": "stream",
     "text": [
      "                                                              \r"
     ]
    },
    {
     "name": "stdout",
     "output_type": "stream",
     "text": [
      "Train Loss: 0.0613, Train Accuracy: 0.9787\n",
      "Val Loss: 0.0609, Val Accuracy: 0.9771\n",
      "Val Precision: 0.9787, Val Recall: 0.9905, Val F1: 0.9845\n",
      "----------------------------------------\n",
      "Epoch 7/10\n"
     ]
    },
    {
     "name": "stderr",
     "output_type": "stream",
     "text": [
      "                                                              \r"
     ]
    },
    {
     "name": "stdout",
     "output_type": "stream",
     "text": [
      "Train Loss: 0.0340, Train Accuracy: 0.9857\n",
      "Val Loss: 0.0651, Val Accuracy: 0.9758\n",
      "Val Precision: 0.9870, Val Recall: 0.9801, Val F1: 0.9835\n",
      "----------------------------------------\n",
      "Epoch 8/10\n"
     ]
    },
    {
     "name": "stderr",
     "output_type": "stream",
     "text": [
      "                                                              \r"
     ]
    },
    {
     "name": "stdout",
     "output_type": "stream",
     "text": [
      "Train Loss: 0.0276, Train Accuracy: 0.9901\n",
      "Val Loss: 0.0569, Val Accuracy: 0.9809\n",
      "Val Precision: 0.9780, Val Recall: 0.9965, Val F1: 0.9872\n",
      "----------------------------------------\n",
      "Epoch 9/10\n"
     ]
    },
    {
     "name": "stderr",
     "output_type": "stream",
     "text": [
      "                                                              \r"
     ]
    },
    {
     "name": "stdout",
     "output_type": "stream",
     "text": [
      "Train Loss: 0.0268, Train Accuracy: 0.9914\n",
      "Val Loss: 0.0497, Val Accuracy: 0.9847\n",
      "Val Precision: 0.9888, Val Recall: 0.9905, Val F1: 0.9896\n",
      "----------------------------------------\n",
      "Epoch 10/10\n"
     ]
    },
    {
     "name": "stderr",
     "output_type": "stream",
     "text": [
      "                                                              "
     ]
    },
    {
     "name": "stdout",
     "output_type": "stream",
     "text": [
      "Train Loss: 0.0245, Train Accuracy: 0.9917\n",
      "Val Loss: 0.0587, Val Accuracy: 0.9783\n",
      "Val Precision: 0.9904, Val Recall: 0.9801, Val F1: 0.9852\n",
      "----------------------------------------\n",
      "CPU times: user 36min 53s, sys: 8.11 s, total: 37min 1s\n",
      "Wall time: 7min 25s\n"
     ]
    },
    {
     "name": "stderr",
     "output_type": "stream",
     "text": [
      "\r"
     ]
    }
   ],
   "source": [
    "%%time\n",
    "epochs = 10\n",
    "for epoch in range(epochs):\n",
    "    print(f\"Epoch {epoch+1}/{epochs}\")\n",
    "    train_loss, train_acc, val_loss, val_acc, val_precision, val_recall, val_f1 = train(\n",
    "        model, criterion, optimizer, traindataloader, validationdataloader, device\n",
    "    )\n",
    "    print(\"-\" * 40)"
   ]
  },
  {
   "cell_type": "markdown",
   "metadata": {},
   "source": [
    "#### Model Saving"
   ]
  },
  {
   "cell_type": "code",
   "execution_count": 23,
   "metadata": {},
   "outputs": [],
   "source": [
    "path = \"/home/z4hid/gitpublicz4hid/x-ray-vision/notebook/model.pt\"\n",
    "torch.save(model, path)"
   ]
  },
  {
   "cell_type": "markdown",
   "metadata": {},
   "source": [
    "#### Loading saved model"
   ]
  },
  {
   "cell_type": "code",
   "execution_count": 24,
   "metadata": {},
   "outputs": [
    {
     "data": {
      "text/plain": [
       "ResNet(\n",
       "  (conv1): Conv2d(3, 64, kernel_size=(7, 7), stride=(2, 2), padding=(3, 3), bias=False)\n",
       "  (bn1): BatchNorm2d(64, eps=1e-05, momentum=0.1, affine=True, track_running_stats=True)\n",
       "  (relu): ReLU(inplace=True)\n",
       "  (maxpool): MaxPool2d(kernel_size=3, stride=2, padding=1, dilation=1, ceil_mode=False)\n",
       "  (layer1): Sequential(\n",
       "    (0): BasicBlock(\n",
       "      (conv1): Conv2d(64, 64, kernel_size=(3, 3), stride=(1, 1), padding=(1, 1), bias=False)\n",
       "      (bn1): BatchNorm2d(64, eps=1e-05, momentum=0.1, affine=True, track_running_stats=True)\n",
       "      (relu): ReLU(inplace=True)\n",
       "      (conv2): Conv2d(64, 64, kernel_size=(3, 3), stride=(1, 1), padding=(1, 1), bias=False)\n",
       "      (bn2): BatchNorm2d(64, eps=1e-05, momentum=0.1, affine=True, track_running_stats=True)\n",
       "    )\n",
       "    (1): BasicBlock(\n",
       "      (conv1): Conv2d(64, 64, kernel_size=(3, 3), stride=(1, 1), padding=(1, 1), bias=False)\n",
       "      (bn1): BatchNorm2d(64, eps=1e-05, momentum=0.1, affine=True, track_running_stats=True)\n",
       "      (relu): ReLU(inplace=True)\n",
       "      (conv2): Conv2d(64, 64, kernel_size=(3, 3), stride=(1, 1), padding=(1, 1), bias=False)\n",
       "      (bn2): BatchNorm2d(64, eps=1e-05, momentum=0.1, affine=True, track_running_stats=True)\n",
       "    )\n",
       "    (2): BasicBlock(\n",
       "      (conv1): Conv2d(64, 64, kernel_size=(3, 3), stride=(1, 1), padding=(1, 1), bias=False)\n",
       "      (bn1): BatchNorm2d(64, eps=1e-05, momentum=0.1, affine=True, track_running_stats=True)\n",
       "      (relu): ReLU(inplace=True)\n",
       "      (conv2): Conv2d(64, 64, kernel_size=(3, 3), stride=(1, 1), padding=(1, 1), bias=False)\n",
       "      (bn2): BatchNorm2d(64, eps=1e-05, momentum=0.1, affine=True, track_running_stats=True)\n",
       "    )\n",
       "  )\n",
       "  (layer2): Sequential(\n",
       "    (0): BasicBlock(\n",
       "      (conv1): Conv2d(64, 128, kernel_size=(3, 3), stride=(2, 2), padding=(1, 1), bias=False)\n",
       "      (bn1): BatchNorm2d(128, eps=1e-05, momentum=0.1, affine=True, track_running_stats=True)\n",
       "      (relu): ReLU(inplace=True)\n",
       "      (conv2): Conv2d(128, 128, kernel_size=(3, 3), stride=(1, 1), padding=(1, 1), bias=False)\n",
       "      (bn2): BatchNorm2d(128, eps=1e-05, momentum=0.1, affine=True, track_running_stats=True)\n",
       "      (downsample): Sequential(\n",
       "        (0): Conv2d(64, 128, kernel_size=(1, 1), stride=(2, 2), bias=False)\n",
       "        (1): BatchNorm2d(128, eps=1e-05, momentum=0.1, affine=True, track_running_stats=True)\n",
       "      )\n",
       "    )\n",
       "    (1): BasicBlock(\n",
       "      (conv1): Conv2d(128, 128, kernel_size=(3, 3), stride=(1, 1), padding=(1, 1), bias=False)\n",
       "      (bn1): BatchNorm2d(128, eps=1e-05, momentum=0.1, affine=True, track_running_stats=True)\n",
       "      (relu): ReLU(inplace=True)\n",
       "      (conv2): Conv2d(128, 128, kernel_size=(3, 3), stride=(1, 1), padding=(1, 1), bias=False)\n",
       "      (bn2): BatchNorm2d(128, eps=1e-05, momentum=0.1, affine=True, track_running_stats=True)\n",
       "    )\n",
       "    (2): BasicBlock(\n",
       "      (conv1): Conv2d(128, 128, kernel_size=(3, 3), stride=(1, 1), padding=(1, 1), bias=False)\n",
       "      (bn1): BatchNorm2d(128, eps=1e-05, momentum=0.1, affine=True, track_running_stats=True)\n",
       "      (relu): ReLU(inplace=True)\n",
       "      (conv2): Conv2d(128, 128, kernel_size=(3, 3), stride=(1, 1), padding=(1, 1), bias=False)\n",
       "      (bn2): BatchNorm2d(128, eps=1e-05, momentum=0.1, affine=True, track_running_stats=True)\n",
       "    )\n",
       "    (3): BasicBlock(\n",
       "      (conv1): Conv2d(128, 128, kernel_size=(3, 3), stride=(1, 1), padding=(1, 1), bias=False)\n",
       "      (bn1): BatchNorm2d(128, eps=1e-05, momentum=0.1, affine=True, track_running_stats=True)\n",
       "      (relu): ReLU(inplace=True)\n",
       "      (conv2): Conv2d(128, 128, kernel_size=(3, 3), stride=(1, 1), padding=(1, 1), bias=False)\n",
       "      (bn2): BatchNorm2d(128, eps=1e-05, momentum=0.1, affine=True, track_running_stats=True)\n",
       "    )\n",
       "  )\n",
       "  (layer3): Sequential(\n",
       "    (0): BasicBlock(\n",
       "      (conv1): Conv2d(128, 256, kernel_size=(3, 3), stride=(2, 2), padding=(1, 1), bias=False)\n",
       "      (bn1): BatchNorm2d(256, eps=1e-05, momentum=0.1, affine=True, track_running_stats=True)\n",
       "      (relu): ReLU(inplace=True)\n",
       "      (conv2): Conv2d(256, 256, kernel_size=(3, 3), stride=(1, 1), padding=(1, 1), bias=False)\n",
       "      (bn2): BatchNorm2d(256, eps=1e-05, momentum=0.1, affine=True, track_running_stats=True)\n",
       "      (downsample): Sequential(\n",
       "        (0): Conv2d(128, 256, kernel_size=(1, 1), stride=(2, 2), bias=False)\n",
       "        (1): BatchNorm2d(256, eps=1e-05, momentum=0.1, affine=True, track_running_stats=True)\n",
       "      )\n",
       "    )\n",
       "    (1): BasicBlock(\n",
       "      (conv1): Conv2d(256, 256, kernel_size=(3, 3), stride=(1, 1), padding=(1, 1), bias=False)\n",
       "      (bn1): BatchNorm2d(256, eps=1e-05, momentum=0.1, affine=True, track_running_stats=True)\n",
       "      (relu): ReLU(inplace=True)\n",
       "      (conv2): Conv2d(256, 256, kernel_size=(3, 3), stride=(1, 1), padding=(1, 1), bias=False)\n",
       "      (bn2): BatchNorm2d(256, eps=1e-05, momentum=0.1, affine=True, track_running_stats=True)\n",
       "    )\n",
       "    (2): BasicBlock(\n",
       "      (conv1): Conv2d(256, 256, kernel_size=(3, 3), stride=(1, 1), padding=(1, 1), bias=False)\n",
       "      (bn1): BatchNorm2d(256, eps=1e-05, momentum=0.1, affine=True, track_running_stats=True)\n",
       "      (relu): ReLU(inplace=True)\n",
       "      (conv2): Conv2d(256, 256, kernel_size=(3, 3), stride=(1, 1), padding=(1, 1), bias=False)\n",
       "      (bn2): BatchNorm2d(256, eps=1e-05, momentum=0.1, affine=True, track_running_stats=True)\n",
       "    )\n",
       "    (3): BasicBlock(\n",
       "      (conv1): Conv2d(256, 256, kernel_size=(3, 3), stride=(1, 1), padding=(1, 1), bias=False)\n",
       "      (bn1): BatchNorm2d(256, eps=1e-05, momentum=0.1, affine=True, track_running_stats=True)\n",
       "      (relu): ReLU(inplace=True)\n",
       "      (conv2): Conv2d(256, 256, kernel_size=(3, 3), stride=(1, 1), padding=(1, 1), bias=False)\n",
       "      (bn2): BatchNorm2d(256, eps=1e-05, momentum=0.1, affine=True, track_running_stats=True)\n",
       "    )\n",
       "    (4): BasicBlock(\n",
       "      (conv1): Conv2d(256, 256, kernel_size=(3, 3), stride=(1, 1), padding=(1, 1), bias=False)\n",
       "      (bn1): BatchNorm2d(256, eps=1e-05, momentum=0.1, affine=True, track_running_stats=True)\n",
       "      (relu): ReLU(inplace=True)\n",
       "      (conv2): Conv2d(256, 256, kernel_size=(3, 3), stride=(1, 1), padding=(1, 1), bias=False)\n",
       "      (bn2): BatchNorm2d(256, eps=1e-05, momentum=0.1, affine=True, track_running_stats=True)\n",
       "    )\n",
       "    (5): BasicBlock(\n",
       "      (conv1): Conv2d(256, 256, kernel_size=(3, 3), stride=(1, 1), padding=(1, 1), bias=False)\n",
       "      (bn1): BatchNorm2d(256, eps=1e-05, momentum=0.1, affine=True, track_running_stats=True)\n",
       "      (relu): ReLU(inplace=True)\n",
       "      (conv2): Conv2d(256, 256, kernel_size=(3, 3), stride=(1, 1), padding=(1, 1), bias=False)\n",
       "      (bn2): BatchNorm2d(256, eps=1e-05, momentum=0.1, affine=True, track_running_stats=True)\n",
       "    )\n",
       "  )\n",
       "  (layer4): Sequential(\n",
       "    (0): BasicBlock(\n",
       "      (conv1): Conv2d(256, 512, kernel_size=(3, 3), stride=(2, 2), padding=(1, 1), bias=False)\n",
       "      (bn1): BatchNorm2d(512, eps=1e-05, momentum=0.1, affine=True, track_running_stats=True)\n",
       "      (relu): ReLU(inplace=True)\n",
       "      (conv2): Conv2d(512, 512, kernel_size=(3, 3), stride=(1, 1), padding=(1, 1), bias=False)\n",
       "      (bn2): BatchNorm2d(512, eps=1e-05, momentum=0.1, affine=True, track_running_stats=True)\n",
       "      (downsample): Sequential(\n",
       "        (0): Conv2d(256, 512, kernel_size=(1, 1), stride=(2, 2), bias=False)\n",
       "        (1): BatchNorm2d(512, eps=1e-05, momentum=0.1, affine=True, track_running_stats=True)\n",
       "      )\n",
       "    )\n",
       "    (1): BasicBlock(\n",
       "      (conv1): Conv2d(512, 512, kernel_size=(3, 3), stride=(1, 1), padding=(1, 1), bias=False)\n",
       "      (bn1): BatchNorm2d(512, eps=1e-05, momentum=0.1, affine=True, track_running_stats=True)\n",
       "      (relu): ReLU(inplace=True)\n",
       "      (conv2): Conv2d(512, 512, kernel_size=(3, 3), stride=(1, 1), padding=(1, 1), bias=False)\n",
       "      (bn2): BatchNorm2d(512, eps=1e-05, momentum=0.1, affine=True, track_running_stats=True)\n",
       "    )\n",
       "    (2): BasicBlock(\n",
       "      (conv1): Conv2d(512, 512, kernel_size=(3, 3), stride=(1, 1), padding=(1, 1), bias=False)\n",
       "      (bn1): BatchNorm2d(512, eps=1e-05, momentum=0.1, affine=True, track_running_stats=True)\n",
       "      (relu): ReLU(inplace=True)\n",
       "      (conv2): Conv2d(512, 512, kernel_size=(3, 3), stride=(1, 1), padding=(1, 1), bias=False)\n",
       "      (bn2): BatchNorm2d(512, eps=1e-05, momentum=0.1, affine=True, track_running_stats=True)\n",
       "    )\n",
       "  )\n",
       "  (avgpool): AdaptiveAvgPool2d(output_size=(1, 1))\n",
       "  (fc): Linear(in_features=512, out_features=1, bias=True)\n",
       ")"
      ]
     },
     "execution_count": 24,
     "metadata": {},
     "output_type": "execute_result"
    }
   ],
   "source": [
    "# Model class must be defined\n",
    "model = torch.load(path, weights_only=False)\n",
    "model.eval()"
   ]
  },
  {
   "cell_type": "markdown",
   "metadata": {},
   "source": [
    "#### Model Evaluation"
   ]
  },
  {
   "cell_type": "code",
   "execution_count": 25,
   "metadata": {},
   "outputs": [],
   "source": [
    "import torch\n",
    "from tqdm import tqdm\n",
    "import numpy as np\n",
    "from sklearn.metrics import accuracy_score, precision_score, recall_score, f1_score, roc_auc_score, confusion_matrix, roc_curve\n",
    "import matplotlib.pyplot as plt\n",
    "\n",
    "def evaluate(model, criterion, test_dataloader, device):\n",
    "    total_test_loss = 0\n",
    "    all_preds = []\n",
    "    all_labels = []\n",
    "    all_probs = []\n",
    "    \n",
    "    model.eval()\n",
    "    with torch.no_grad():\n",
    "        with tqdm(test_dataloader, unit=\"batch\", leave=False) as pbar:\n",
    "            pbar.set_description(f\"Testing\")\n",
    "            for images, labels in pbar:\n",
    "                images = images.to(device, non_blocking=True)\n",
    "                labels = labels.float().to(device, non_blocking=True)\n",
    "                \n",
    "                output = model(images).view(-1)\n",
    "                loss = criterion(output, labels)\n",
    "                total_test_loss += loss.item()\n",
    "                \n",
    "                probs = torch.sigmoid(output)\n",
    "                preds = (probs > 0.5).float()\n",
    "                \n",
    "                all_preds.extend(preds.cpu().numpy())\n",
    "                all_labels.extend(labels.cpu().numpy())\n",
    "                all_probs.extend(probs.cpu().numpy())\n",
    "    \n",
    "    all_preds = np.array(all_preds)\n",
    "    all_labels = np.array(all_labels)\n",
    "    all_probs = np.array(all_probs)\n",
    "    \n",
    "    # Calculate metrics\n",
    "    test_loss = total_test_loss / len(test_dataloader)\n",
    "    test_acc = accuracy_score(all_labels, all_preds)\n",
    "    test_precision = precision_score(all_labels, all_preds)\n",
    "    test_recall = recall_score(all_labels, all_preds)\n",
    "    test_f1 = f1_score(all_labels, all_preds)\n",
    "    test_auc = roc_auc_score(all_labels, all_probs)\n",
    "    \n",
    "    # Calculate confusion matrix and ROC curve data\n",
    "    cm = confusion_matrix(all_labels, all_preds)\n",
    "    fpr, tpr, _ = roc_curve(all_labels, all_probs)\n",
    "    \n",
    "    return {\n",
    "        \"loss\": test_loss,\n",
    "        \"accuracy\": test_acc,\n",
    "        \"precision\": test_precision,\n",
    "        \"recall\": test_recall,\n",
    "        \"f1_score\": test_f1,\n",
    "        \"auc\": test_auc,\n",
    "        \"confusion_matrix\": cm,\n",
    "        \"roc_curve\": (fpr, tpr)\n",
    "    }\n",
    "\n",
    "def plot_confusion_matrix(cm, classes):\n",
    "    plt.figure(figsize=(8, 6))\n",
    "    plt.imshow(cm, interpolation='nearest', cmap=plt.cm.Blues)\n",
    "    plt.title('Confusion Matrix')\n",
    "    plt.colorbar()\n",
    "    tick_marks = np.arange(len(classes))\n",
    "    plt.xticks(tick_marks, classes, rotation=45)\n",
    "    plt.yticks(tick_marks, classes)\n",
    "    plt.tight_layout()\n",
    "    plt.ylabel('True label')\n",
    "    plt.xlabel('Predicted label')\n",
    "    for i, j in np.ndindex(cm.shape):\n",
    "        plt.text(j, i, format(cm[i, j], 'd'), horizontalalignment=\"center\",\n",
    "                 color=\"white\" if cm[i, j] > cm.max() / 2. else \"black\")\n",
    "    plt.show()\n",
    "    # plt.savefig('confusion_matrix.png')\n",
    "    plt.close()\n",
    "\n",
    "def plot_roc_curve(fpr, tpr, auc_score):\n",
    "    plt.figure(figsize=(8, 6))\n",
    "    plt.plot(fpr, tpr, color='darkorange', lw=2, label=f'ROC curve (AUC = {auc_score:.2f})')\n",
    "    plt.plot([0, 1], [0, 1], color='navy', lw=2, linestyle='--')\n",
    "    plt.xlim([0.0, 1.0])\n",
    "    plt.ylim([0.0, 1.05])\n",
    "    plt.xlabel('False Positive Rate')\n",
    "    plt.ylabel('True Positive Rate')\n",
    "    plt.title('Receiver Operating Characteristic (ROC) Curve')\n",
    "    plt.legend(loc=\"lower right\")\n",
    "    plt.show()\n",
    "    # plt.savefig('roc_curve.png')\n",
    "    plt.close()\n",
    "\n",
    "# Example usage:\n",
    "# model = YourModel()\n",
    "# criterion = nn.BCEWithLogitsLoss()\n",
    "# device = torch.device(\"cuda\" if torch.cuda.is_available() else \"cpu\")\n",
    "# model.to(device)\n",
    "# \n",
    "# metrics = evaluate(model, criterion, test_dataloader, device)\n",
    "# plot_confusion_matrix(metrics[\"confusion_matrix\"], ['Negative', 'Positive'])\n",
    "# plot_roc_curve(metrics[\"roc_curve\"][0], metrics[\"roc_curve\"][1], metrics[\"auc\"])\n"
   ]
  },
  {
   "cell_type": "code",
   "execution_count": 26,
   "metadata": {},
   "outputs": [
    {
     "name": "stderr",
     "output_type": "stream",
     "text": [
      "                                                           \r"
     ]
    }
   ],
   "source": [
    "metrics = evaluate(model, criterion, testdataloader, device)"
   ]
  },
  {
   "cell_type": "code",
   "execution_count": 27,
   "metadata": {},
   "outputs": [
    {
     "data": {
      "image/png": "[encoded data removed]",
      "text/plain": [
       "<Figure size 800x600 with 2 Axes>"
      ]
     },
     "metadata": {},
     "output_type": "display_data"
    }
   ],
   "source": [
    "plot_confusion_matrix(metrics[\"confusion_matrix\"], ['Negative', 'Positive'])"
   ]
  },
  {
   "cell_type": "code",
   "execution_count": 28,
   "metadata": {},
   "outputs": [
    {
     "data": {
      "image/png": "[encoded data removed]",
      "text/plain": [
       "<Figure size 800x600 with 1 Axes>"
      ]
     },
     "metadata": {},
     "output_type": "display_data"
    }
   ],
   "source": [
    "plot_roc_curve(metrics[\"roc_curve\"][0], metrics[\"roc_curve\"][1], metrics[\"auc\"])"
   ]
  },
  {
   "cell_type": "markdown",
   "metadata": {},
   "source": [
    "#### Prediction"
   ]
  },
  {
   "cell_type": "code",
   "execution_count": 29,
   "metadata": {},
   "outputs": [
    {
     "data": {
      "text/plain": [
       "['NORMAL', 'PNEUMONIA']"
      ]
     },
     "execution_count": 29,
     "metadata": {},
     "output_type": "execute_result"
    }
   ],
   "source": [
    "label_name = data.classes\n",
    "label_name"
   ]
  },
  {
   "cell_type": "code",
   "execution_count": 30,
   "metadata": {},
   "outputs": [],
   "source": [
    "from PIL import Image\n",
    "from torchvision import models, transforms\n",
    "\n",
    "# Define the device\n",
    "device = torch.device(\"cuda\" if torch.cuda.is_available() else \"cpu\")\n",
    "\n",
    "# Load the image\n",
    "# image_path = '/home/z4hid/gitpublicz4hid/x-ray-vision/notebook/data/PNEUMONIA/BACTERIA-7422-0001.jpeg'\n",
    "image_path = '/home/z4hid/gitpublicz4hid/x-ray-vision/notebook/data/NORMAL/NORMAL-28501-0001.jpeg'\n",
    "image = Image.open(image_path)\n",
    "\n",
    "# Define preprocessing steps\n",
    "# Define preprocessing steps\n",
    "preprocess = transforms.Compose([\n",
    "    transforms.Resize(size=(224, 224)),\n",
    "    transforms.Grayscale(3),  # Convert to 3 channel grayscale\n",
    "    transforms.ToTensor(),\n",
    "    transforms.Normalize(mean=[0.485, 0.456, 0.406], std=[0.229, 0.224, 0.225])  # ImageNet normalization\n",
    "])\n",
    "# # Preprocess the image\n",
    "# image_tensor = preprocess(image).to(device)\n",
    "\n",
    "# # Make the prediction\n",
    "# with torch.no_grad():\n",
    "#     logits = model(image_tensor)\n",
    "#     probs = torch.softmax(logits, dim=1)\n",
    "#     pred_label = torch.argmax(probs, dim=1)\n",
    "\n",
    "# # Print the prediction\n",
    "# print(f\"Predicted: {pred_label.item()}\")\n",
    "\n",
    "# # Print the predicted label\n",
    "# print(\"Predicted Label:\", label_name[pred_label.item()])"
   ]
  },
  {
   "cell_type": "code",
   "execution_count": 32,
   "metadata": {},
   "outputs": [
    {
     "name": "stdout",
     "output_type": "stream",
     "text": [
      "Predicted: PNEUMONIA (probability: 0.9998)\n",
      "Diagnosis: PNEUMONIA (confidence: 0.9998)\n"
     ]
    }
   ],
   "source": [
    "# Function to predict\n",
    "def predict_image(image_path, model, preprocess, device):\n",
    "    image = Image.open(image_path)\n",
    "    image_tensor = preprocess(image).unsqueeze(0).to(device)\n",
    "    \n",
    "    with torch.no_grad():\n",
    "        output = model(image_tensor)\n",
    "        probability = torch.sigmoid(output)\n",
    "        predicted = (probability > 0.5).float()\n",
    "    \n",
    "    return predicted.item(), probability.item()\n",
    "\n",
    "# Load and predict the image\n",
    "image_path = '/home/z4hid/gitpublicz4hid/x-ray-vision/notebook/data/PNEUMONIA/BACTERIA-7422-0001.jpeg'\n",
    "# image_path = '/home/z4hid/gitpublicz4hid/x-ray-vision/notebook/data/NORMAL/NORMAL-28501-0001.jpeg'\n",
    "predicted_class, probability = predict_image(image_path, model, preprocess, device)\n",
    "\n",
    "# Print the prediction\n",
    "if predicted_class == 1:\n",
    "    print(f\"Predicted: PNEUMONIA (probability: {probability:.4f})\")\n",
    "else:\n",
    "    print(f\"Predicted: NORMAL (probability: {1-probability:.4f})\")\n",
    "\n",
    "# You can also add a threshold for more nuanced classification if needed\n",
    "threshold = 0.5\n",
    "if probability > threshold:\n",
    "    print(f\"Diagnosis: PNEUMONIA (confidence: {probability:.4f})\")\n",
    "else:\n",
    "    print(f\"Diagnosis: NORMAL (confidence: {1-probability:.4f})\")"
   ]
  },
  {
   "cell_type": "code",
   "execution_count": null,
   "metadata": {},
   "outputs": [],
   "source": []
  }
 ],
 "metadata": {
  "kernelspec": {
   "display_name": "aiagents",
   "language": "python",
   "name": "python3"
  },
  "language_info": {
   "codemirror_mode": {
    "name": "ipython",
    "version": 3
   },
   "file_extension": ".py",
   "mimetype": "text/x-python",
   "name": "python",
   "nbconvert_exporter": "python",
   "pygments_lexer": "ipython3",
   "version": "3.11.9"
  }
 },
 "nbformat": 4,
 "nbformat_minor": 2
}
